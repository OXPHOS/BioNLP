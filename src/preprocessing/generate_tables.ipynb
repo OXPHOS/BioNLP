{
 "cells": [
  {
   "cell_type": "markdown",
   "metadata": {},
   "source": [
    "### Mostly overlapped with `generate_tables.py` but older version"
   ]
  },
  {
   "cell_type": "code",
   "execution_count": 95,
   "metadata": {
    "collapsed": false
   },
   "outputs": [],
   "source": [
    "import os\n",
    "import re\n",
    "import pandas as pd"
   ]
  },
  {
   "cell_type": "markdown",
   "metadata": {},
   "source": [
    "#### Get input files"
   ]
  },
  {
   "cell_type": "code",
   "execution_count": 96,
   "metadata": {
    "collapsed": false
   },
   "outputs": [],
   "source": [
    "file_path = os.path.join(os.getcwd(), '../../input_data/BioNLP-OST-2019_BB-norm_train') # BioNLP-OST-2019_BB-norm_dev\n",
    "os.listdir(file_path)\n",
    "input_file = [_ for _ in os.listdir(file_path) if _.endswith('.a1')]\n",
    "label_file = [_ for _ in os.listdir(file_path) if _.endswith('.a2')]\n",
    "# For training and dev data set, every input file comes with a label file\n",
    "assert (len(input_file)==len(label_file))"
   ]
  },
  {
   "cell_type": "markdown",
   "metadata": {},
   "source": [
    "#### Output the id, category, name and other information of the entities in training and dev datasets to file\n",
    "输出训练集和验证集的实体编号，实体类别，实体名称等信息宽表"
   ]
  },
  {
   "cell_type": "code",
   "execution_count": 4,
   "metadata": {
    "collapsed": true
   },
   "outputs": [],
   "source": [
    "pattern='.*norm-(.*)\\..*'\n",
    "with open('../../input_data/wide_tables/entity_list_dev.tsv', 'w+') as f_handler:  #entity_list_dev.csv\n",
    "    header=True\n",
    "    for f in input_file:\n",
    "        f_id = re.search(pattern, f).group(1)\n",
    "        \n",
    "        # Parse input files, with format of: label \\t category \\s [start \\s end]rep  \\t name\n",
    "        f_in = pd.read_csv(os.path.join(file_path, f), sep='\\t', header=None)\n",
    "        f_in.columns=['entity_id', 'mix', 'name']\n",
    "        f_in[['category', 'positions']] = f_in.mix.str.split(n=1, expand=True)\n",
    "        f_in.drop(columns=['mix'], inplace=True)\n",
    "        f_in.insert(0, 'text_id', f_id)\n",
    "        if header:\n",
    "            f_in.to_csv(f_handler, index=False, sep='\\t')\n",
    "            header=False\n",
    "        else:\n",
    "            f_in.to_csv(f_handler, index=False, header=False, sep='\\t')\n",
    "f_handler.close()"
   ]
  },
  {
   "cell_type": "markdown",
   "metadata": {},
   "source": [
    "#### Output the id, category, name and other information of the entities, together with the id, name and other information of the normalized concepts, in training and dev datasets to file\n",
    "\n",
    "输出训练集和验证集的实体编号，实体类别，实体名称等，与标准化后正确编号，名称等信息宽表"
   ]
  },
  {
   "cell_type": "markdown",
   "metadata": {},
   "source": [
    "Parse reference dictionaries: OBT and NCBI taxdump"
   ]
  },
  {
   "cell_type": "code",
   "execution_count": 59,
   "metadata": {
    "collapsed": false
   },
   "outputs": [
    {
     "data": {
      "text/html": [
       "<div>\n",
       "<style scoped>\n",
       "    .dataframe tbody tr th:only-of-type {\n",
       "        vertical-align: middle;\n",
       "    }\n",
       "\n",
       "    .dataframe tbody tr th {\n",
       "        vertical-align: top;\n",
       "    }\n",
       "\n",
       "    .dataframe thead th {\n",
       "        text-align: right;\n",
       "    }\n",
       "</style>\n",
       "<table border=\"1\" class=\"dataframe\">\n",
       "  <thead>\n",
       "    <tr style=\"text-align: right;\">\n",
       "      <th></th>\n",
       "      <th>id</th>\n",
       "      <th>name</th>\n",
       "    </tr>\n",
       "  </thead>\n",
       "  <tbody>\n",
       "    <tr>\n",
       "      <th>0</th>\n",
       "      <td>3381</td>\n",
       "      <td>fermented cheese</td>\n",
       "    </tr>\n",
       "    <tr>\n",
       "      <th>1</th>\n",
       "      <td>2017</td>\n",
       "      <td>enriched dough</td>\n",
       "    </tr>\n",
       "    <tr>\n",
       "      <th>2</th>\n",
       "      <td>2100</td>\n",
       "      <td>lean dough</td>\n",
       "    </tr>\n",
       "    <tr>\n",
       "      <th>3</th>\n",
       "      <td>3144</td>\n",
       "      <td>fermented cereal-based product</td>\n",
       "    </tr>\n",
       "    <tr>\n",
       "      <th>4</th>\n",
       "      <td>2417</td>\n",
       "      <td>crusty bread</td>\n",
       "    </tr>\n",
       "  </tbody>\n",
       "</table>\n",
       "</div>"
      ],
      "text/plain": [
       "     id                            name\n",
       "0  3381                fermented cheese\n",
       "1  2017                  enriched dough\n",
       "2  2100                      lean dough\n",
       "3  3144  fermented cereal-based product\n",
       "4  2417                    crusty bread"
      ]
     },
     "execution_count": 59,
     "metadata": {},
     "output_type": "execute_result"
    }
   ],
   "source": [
    "ref_obt = pd.read_csv(os.path.join(os.getcwd(), '../../input_data/OBT.txt'), sep='|')\n",
    "ref_obt.head()"
   ]
  },
  {
   "cell_type": "code",
   "execution_count": 98,
   "metadata": {
    "collapsed": false
   },
   "outputs": [
    {
     "data": {
      "text/html": [
       "<div>\n",
       "<style scoped>\n",
       "    .dataframe tbody tr th:only-of-type {\n",
       "        vertical-align: middle;\n",
       "    }\n",
       "\n",
       "    .dataframe tbody tr th {\n",
       "        vertical-align: top;\n",
       "    }\n",
       "\n",
       "    .dataframe thead th {\n",
       "        text-align: right;\n",
       "    }\n",
       "</style>\n",
       "<table border=\"1\" class=\"dataframe\">\n",
       "  <thead>\n",
       "    <tr style=\"text-align: right;\">\n",
       "      <th></th>\n",
       "      <th>dict_id</th>\n",
       "      <th>dict_name</th>\n",
       "    </tr>\n",
       "  </thead>\n",
       "  <tbody>\n",
       "    <tr>\n",
       "      <th>0</th>\n",
       "      <td>OBT:003381</td>\n",
       "      <td>fermented cheese</td>\n",
       "    </tr>\n",
       "    <tr>\n",
       "      <th>1</th>\n",
       "      <td>OBT:002017</td>\n",
       "      <td>enriched dough</td>\n",
       "    </tr>\n",
       "    <tr>\n",
       "      <th>2</th>\n",
       "      <td>OBT:002100</td>\n",
       "      <td>lean dough</td>\n",
       "    </tr>\n",
       "    <tr>\n",
       "      <th>3</th>\n",
       "      <td>OBT:003144</td>\n",
       "      <td>fermented cereal-based product</td>\n",
       "    </tr>\n",
       "    <tr>\n",
       "      <th>4</th>\n",
       "      <td>OBT:002417</td>\n",
       "      <td>crusty bread</td>\n",
       "    </tr>\n",
       "  </tbody>\n",
       "</table>\n",
       "</div>"
      ],
      "text/plain": [
       "      dict_id                       dict_name\n",
       "0  OBT:003381                fermented cheese\n",
       "1  OBT:002017                  enriched dough\n",
       "2  OBT:002100                      lean dough\n",
       "3  OBT:003144  fermented cereal-based product\n",
       "4  OBT:002417                    crusty bread"
      ]
     },
     "execution_count": 98,
     "metadata": {},
     "output_type": "execute_result"
    }
   ],
   "source": [
    "ref_obt.columns=['dict_id', 'dict_name']\n",
    "# For the OBT dict with id of format: xxxxxx(number, no 'OBT:' prefix)\n",
    "# for i in range(ref_obt.shape[0]):\n",
    "#     ref_obt.dict_id[i] = 'OBT:'+'0'*(6-len(str(ref_obt.dict_id[i])))+str(ref_obt.dict_id[i])\n",
    "# ref_obt.dict_id = ref_obt.dict_id.astype(str)\n",
    "\n",
    "ref_obt.head()"
   ]
  },
  {
   "cell_type": "code",
   "execution_count": 69,
   "metadata": {
    "collapsed": false
   },
   "outputs": [
    {
     "data": {
      "text/html": [
       "<div>\n",
       "<style scoped>\n",
       "    .dataframe tbody tr th:only-of-type {\n",
       "        vertical-align: middle;\n",
       "    }\n",
       "\n",
       "    .dataframe tbody tr th {\n",
       "        vertical-align: top;\n",
       "    }\n",
       "\n",
       "    .dataframe thead th {\n",
       "        text-align: right;\n",
       "    }\n",
       "</style>\n",
       "<table border=\"1\" class=\"dataframe\">\n",
       "  <thead>\n",
       "    <tr style=\"text-align: right;\">\n",
       "      <th></th>\n",
       "      <th>tax_id</th>\n",
       "      <th>name_txt</th>\n",
       "      <th>name_class</th>\n",
       "    </tr>\n",
       "  </thead>\n",
       "  <tbody>\n",
       "    <tr>\n",
       "      <th>0</th>\n",
       "      <td>1.0</td>\n",
       "      <td>all</td>\n",
       "      <td>synonym</td>\n",
       "    </tr>\n",
       "    <tr>\n",
       "      <th>1</th>\n",
       "      <td>1.0</td>\n",
       "      <td>root</td>\n",
       "      <td>scientific name</td>\n",
       "    </tr>\n",
       "    <tr>\n",
       "      <th>2</th>\n",
       "      <td>2.0</td>\n",
       "      <td>Bacteria</td>\n",
       "      <td>scientific name</td>\n",
       "    </tr>\n",
       "    <tr>\n",
       "      <th>3</th>\n",
       "      <td>2.0</td>\n",
       "      <td>Monera</td>\n",
       "      <td>in-part</td>\n",
       "    </tr>\n",
       "    <tr>\n",
       "      <th>4</th>\n",
       "      <td>2.0</td>\n",
       "      <td>Procaryotae</td>\n",
       "      <td>in-part</td>\n",
       "    </tr>\n",
       "  </tbody>\n",
       "</table>\n",
       "</div>"
      ],
      "text/plain": [
       "   tax_id     name_txt       name_class\n",
       "0     1.0          all          synonym\n",
       "1     1.0         root  scientific name\n",
       "2     2.0     Bacteria  scientific name\n",
       "3     2.0       Monera          in-part\n",
       "4     2.0  Procaryotae          in-part"
      ]
     },
     "execution_count": 69,
     "metadata": {},
     "output_type": "execute_result"
    }
   ],
   "source": [
    "ref_tax_raw = pd.read_csv(os.path.join(os.getcwd(), '../../input_data/TAX1.txt'), sep='|')\n",
    "ref_tax_raw.head()\n",
    "# ref_tax_raw = ref_tax_raw.iloc[:50,:]"
   ]
  },
  {
   "cell_type": "code",
   "execution_count": 73,
   "metadata": {
    "collapsed": false
   },
   "outputs": [
    {
     "data": {
      "text/html": [
       "<div>\n",
       "<style scoped>\n",
       "    .dataframe tbody tr th:only-of-type {\n",
       "        vertical-align: middle;\n",
       "    }\n",
       "\n",
       "    .dataframe tbody tr th {\n",
       "        vertical-align: top;\n",
       "    }\n",
       "\n",
       "    .dataframe thead th {\n",
       "        text-align: right;\n",
       "    }\n",
       "</style>\n",
       "<table border=\"1\" class=\"dataframe\">\n",
       "  <thead>\n",
       "    <tr style=\"text-align: right;\">\n",
       "      <th></th>\n",
       "      <th>dict_id</th>\n",
       "      <th>dict_name</th>\n",
       "      <th>dict_name_class</th>\n",
       "    </tr>\n",
       "  </thead>\n",
       "  <tbody>\n",
       "    <tr>\n",
       "      <th>0</th>\n",
       "      <td>1</td>\n",
       "      <td>[all, root]</td>\n",
       "      <td>[synonym, scientific name]</td>\n",
       "    </tr>\n",
       "    <tr>\n",
       "      <th>1</th>\n",
       "      <td>2</td>\n",
       "      <td>[Bacteria, Monera, Procaryotae, Prokaryota, Pr...</td>\n",
       "      <td>[scientific name, in-part, in-part, in-part, i...</td>\n",
       "    </tr>\n",
       "    <tr>\n",
       "      <th>2</th>\n",
       "      <td>6</td>\n",
       "      <td>[Azorhizobium, Azorhizobium Dreyfus et al. 198...</td>\n",
       "      <td>[scientific name, authority]</td>\n",
       "    </tr>\n",
       "    <tr>\n",
       "      <th>3</th>\n",
       "      <td>7</td>\n",
       "      <td>[ATCC 43989, Azorhizobium caulinodans, Azorhiz...</td>\n",
       "      <td>[type material, scientific name, authority, eq...</td>\n",
       "    </tr>\n",
       "    <tr>\n",
       "      <th>4</th>\n",
       "      <td>9</td>\n",
       "      <td>[Acyrthosiphon pisum symbiont P, Buchnera aphi...</td>\n",
       "      <td>[includes, scientific name, authority, includes]</td>\n",
       "    </tr>\n",
       "  </tbody>\n",
       "</table>\n",
       "</div>"
      ],
      "text/plain": [
       "  dict_id                                          dict_name  \\\n",
       "0       1                                        [all, root]   \n",
       "1       2  [Bacteria, Monera, Procaryotae, Prokaryota, Pr...   \n",
       "2       6  [Azorhizobium, Azorhizobium Dreyfus et al. 198...   \n",
       "3       7  [ATCC 43989, Azorhizobium caulinodans, Azorhiz...   \n",
       "4       9  [Acyrthosiphon pisum symbiont P, Buchnera aphi...   \n",
       "\n",
       "                                     dict_name_class  \n",
       "0                         [synonym, scientific name]  \n",
       "1  [scientific name, in-part, in-part, in-part, i...  \n",
       "2                       [scientific name, authority]  \n",
       "3  [type material, scientific name, authority, eq...  \n",
       "4   [includes, scientific name, authority, includes]  "
      ]
     },
     "execution_count": 73,
     "metadata": {},
     "output_type": "execute_result"
    }
   ],
   "source": [
    "ref_tax = ref_tax_raw.groupby('tax_id').agg(lambda x: x.tolist())\n",
    "ref_tax.reset_index(inplace=True)\n",
    "ref_tax.columns=['dict_id', 'dict_name', 'dict_name_class']\n",
    "ref_tax.dict_id = ref_tax.dict_id.astype(int).astype(str)\n",
    "ref_tax.head()"
   ]
  },
  {
   "cell_type": "code",
   "execution_count": 76,
   "metadata": {
    "collapsed": false
   },
   "outputs": [
    {
     "name": "stderr",
     "output_type": "stream",
     "text": [
      "/Users/zora/anaconda/envs/bacbiotope/lib/python3.6/site-packages/ipykernel_launcher.py:14: ParserWarning: Falling back to the 'python' engine because the 'c' engine does not support regex separators (separators > 1 char and different from '\\s+' are interpreted as regex); you can avoid this warning by specifying engine='python'.\n",
      "  \n"
     ]
    },
    {
     "name": "stdout",
     "output_type": "stream",
     "text": [
      "    text_id entity_id                                               name  \\\n",
      "0  15358511        T1  Attachment of Escherichia coli O157:H7 grown i...   \n",
      "1  15358511        T2  This study investigated the effect of growth i...   \n",
      "2  15358511        T3                                         Attachment   \n",
      "3  15358511        T4                           Escherichia coli O157:H7   \n",
      "4  15358511        T5                                  tryptic soy broth   \n",
      "\n",
      "        category positions standard_id      dict_type     dict_id  \\\n",
      "0          Title     0 189         NaN            NaN         NaN   \n",
      "1      Paragraph  190 1044         NaN            NaN         NaN   \n",
      "2      Phenotype      0 10          N1    OntoBiotope  OBT:000029   \n",
      "3  Microorganism     14 38          N2  NCBI_Taxonomy       83334   \n",
      "4        Habitat     48 65          N3    OntoBiotope  OBT:000360   \n",
      "\n",
      "     dict_name_class                   dict_name  \n",
      "0                NaN                         NaN  \n",
      "1                NaN                         NaN  \n",
      "2                NaN                    adherent  \n",
      "3  [scientific name]  [Escherichia coli O157:H7]  \n",
      "4                NaN              nutrient broth  \n"
     ]
    }
   ],
   "source": [
    "pattern='.*norm-(.*)\\..*'\n",
    "header=True\n",
    "for f in input_file:\n",
    "    f_id = re.search(pattern, f).group(1)\n",
    "    \n",
    "    # Parse input files, with format of: label \\t category \\s [start \\s end]rep  \\t name\n",
    "    f_in = pd.read_csv(os.path.join(file_path, f), sep='\\t', header=None)\n",
    "    f_in.columns=['entity_id', 'mix', 'name']\n",
    "    f_in[['category', 'positions']] = f_in.mix.str.split(n=1, expand=True)\n",
    "    f_in.drop(columns=['mix'], inplace=True)\n",
    "    f_in.insert(0, 'text_id', f_id)\n",
    "\n",
    "    # Parse output files, with format of: label \\t category \\s entity_lable \\s referent\n",
    "    f_out = pd.read_csv(os.path.join(file_path, f[:-1]+'2'), sep='\\t|\\s', header=None)\n",
    "    f_out.columns=['standard_id', 'dict_type', 'entity_id', 'dict_id']\n",
    "    f_out.entity_id = f_out.entity_id.str.lstrip('Annotation:')\n",
    "    f_out.dict_id = f_out.dict_id.str.lstrip('Referent:')    \n",
    "    f_out.insert(0, 'text_id', f_id)\n",
    "    \n",
    "    res = pd.merge(f_in, f_out, how='outer', on=['text_id', 'entity_id'])\n",
    "    res = pd.merge(res, ref_obt, how='left', on='dict_id')\n",
    "    res = pd.merge(res, ref_tax, how='left', on='dict_id')\n",
    "    res['dict_name'] = res.dict_name_x.fillna(res.dict_name_y)\n",
    "    res.drop(columns=['dict_name_x', 'dict_name_y'], inplace=True)\n",
    "    # print(res.head())\n",
    "    # break"
   ]
  },
  {
   "cell_type": "code",
   "execution_count": 90,
   "metadata": {
    "collapsed": false
   },
   "outputs": [
    {
     "name": "stderr",
     "output_type": "stream",
     "text": [
      "/Users/zora/anaconda/envs/bacbiotope/lib/python3.6/site-packages/ipykernel_launcher.py:14: ParserWarning: Falling back to the 'python' engine because the 'c' engine does not support regex separators (separators > 1 char and different from '\\s+' are interpreted as regex); you can avoid this warning by specifying engine='python'.\n",
      "  \n"
     ]
    },
    {
     "name": "stdout",
     "output_type": "stream",
     "text": [
      "    text_id entity_id                                               name  \\\n",
      "0  15358511        T1  Attachment of Escherichia coli O157:H7 grown i...   \n",
      "1  15358511        T2  This study investigated the effect of growth i...   \n",
      "2  15358511        T3                                         Attachment   \n",
      "3  15358511        T4                           Escherichia coli O157:H7   \n",
      "4  15358511        T5                                  tryptic soy broth   \n",
      "\n",
      "        category positions standard_id      dict_type     dict_id  \\\n",
      "0          Title     0 189         NaN            NaN         NaN   \n",
      "1      Paragraph  190 1044         NaN            NaN         NaN   \n",
      "2      Phenotype      0 10          N1    OntoBiotope  OBT:000029   \n",
      "3  Microorganism     14 38          N2  NCBI_Taxonomy       83334   \n",
      "4        Habitat     48 65          N3    OntoBiotope  OBT:000360   \n",
      "\n",
      "                    dict_name    dict_name_class  \n",
      "0                         NaN                NaN  \n",
      "1                         NaN                NaN  \n",
      "2                    adherent                NaN  \n",
      "3  [Escherichia coli O157:H7]  [scientific name]  \n",
      "4              nutrient broth                NaN  \n"
     ]
    }
   ],
   "source": [
    "pattern='.*norm-(.*)\\..*'\n",
    "header=True\n",
    "for f in input_file:\n",
    "    f_id = re.search(pattern, f).group(1)\n",
    "    \n",
    "    # Parse input files, with format of: label \\t category \\s [start \\s end]rep  \\t name\n",
    "    f_in = pd.read_csv(os.path.join(file_path, f), sep='\\t', header=None)\n",
    "    f_in.columns=['entity_id', 'mix', 'name']\n",
    "    f_in[['category', 'positions']] = f_in.mix.str.split(n=1, expand=True)\n",
    "    f_in.drop(columns=['mix'], inplace=True)\n",
    "    f_in.insert(0, 'text_id', f_id)\n",
    "\n",
    "    # Parse output files, with format of: label \\t category \\s entity_lable \\s referent\n",
    "    f_out = pd.read_csv(os.path.join(file_path, f[:-1]+'2'), sep='\\t|\\s', header=None)\n",
    "    f_out.columns=['standard_id', 'dict_type', 'entity_id', 'dict_id']\n",
    "    f_out.entity_id = f_out.entity_id.str.lstrip('Annotation:')\n",
    "    f_out.dict_id = f_out.dict_id.str.lstrip('Referent:')    \n",
    "    f_out.insert(0, 'text_id', f_id)\n",
    "    \n",
    "    res = pd.merge(f_in, f_out, how='outer', on=['text_id', 'entity_id'])\n",
    "    res = pd.merge(res, ref_obt, how='left', on='dict_id')\n",
    "    res = pd.merge(res, ref_tax, how='left', on='dict_id', suffixes=('', '_tmp'))\n",
    "    res['dict_name'] = res.dict_name.fillna(res.dict_name_tmp)\n",
    "    res.drop(columns=['dict_name_tmp'], inplace=True)\n",
    "    print(res.head())\n",
    "    break"
   ]
  }
 ],
 "metadata": {
  "kernelspec": {
   "display_name": "Python 3",
   "language": "python",
   "name": "python3"
  },
  "language_info": {
   "codemirror_mode": {
    "name": "ipython",
    "version": 3
   },
   "file_extension": ".py",
   "mimetype": "text/x-python",
   "name": "python",
   "nbconvert_exporter": "python",
   "pygments_lexer": "ipython3",
   "version": "3.6.8"
  }
 },
 "nbformat": 4,
 "nbformat_minor": 0
}
